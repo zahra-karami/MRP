{
 "cells": [
  {
   "cell_type": "code",
   "execution_count": 1,
   "metadata": {},
   "outputs": [],
   "source": [
    "import pandas as pd\n",
    "import numpy as np"
   ]
  },
  {
   "cell_type": "code",
   "execution_count": 2,
   "metadata": {},
   "outputs": [],
   "source": [
    "df_cluster = pd.read_csv('symbols-clusters.csv') \n",
    "df_price =  pd.read_csv('stocks/total_data_price_Symbol.csv', index_col='Symbol')\n",
    "symbols = df_price.index\n",
    "n_clusters = len(df_cluster.Cluster.unique())"
   ]
  },
  {
   "cell_type": "code",
   "execution_count": 3,
   "metadata": {},
   "outputs": [],
   "source": [
    "def create_portfolio_randomly(symbols, n=10):\n",
    "    selected_symbols =  np.random.choice(symbols, n, replace = False)\n",
    "    return selected_symbols"
   ]
  },
  {
   "cell_type": "code",
   "execution_count": 11,
   "metadata": {},
   "outputs": [],
   "source": [
    "def create_portfolio_clusterbased(df_cluster, cluster_num, n = 10 ):\n",
    "    selected_symbols = []\n",
    "    \n",
    "    cls = 1\n",
    "    for i in range(n):\n",
    "        symbol = df_cluster[df_cluster['Cluster'] == cls].sample(1)['Symbol'].to_numpy()[0]\n",
    "        selected_symbols.append(symbol)\n",
    "\n",
    "        if cls < cluster_num:\n",
    "            cls += 1\n",
    "        else:\n",
    "            cls = 1       \n",
    "\n",
    "    return np.array(selected_symbols)"
   ]
  },
  {
   "cell_type": "code",
   "execution_count": 14,
   "metadata": {},
   "outputs": [],
   "source": [
    "random_portfolio = create_portfolio_randomly(symbols)\n",
    "cluster_based_portfolio = create_portfolio_clusterbased(df_cluster , n_clusters , 10)"
   ]
  },
  {
   "cell_type": "code",
   "execution_count": null,
   "metadata": {},
   "outputs": [],
   "source": []
  }
 ],
 "metadata": {
  "kernelspec": {
   "display_name": "Python 3",
   "language": "python",
   "name": "python3"
  },
  "language_info": {
   "codemirror_mode": {
    "name": "ipython",
    "version": 3
   },
   "file_extension": ".py",
   "mimetype": "text/x-python",
   "name": "python",
   "nbconvert_exporter": "python",
   "pygments_lexer": "ipython3",
   "version": "3.7.7"
  }
 },
 "nbformat": 4,
 "nbformat_minor": 4
}
