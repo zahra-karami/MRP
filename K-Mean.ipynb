{
 "cells": [
  {
   "cell_type": "code",
   "execution_count": 1,
   "metadata": {},
   "outputs": [
    {
     "name": "stderr",
     "output_type": "stream",
     "text": [
      "\n",
      "Bad key \"text.kerning_factor\" on line 4 in\n",
      "C:\\ProgramData\\Anaconda3\\lib\\site-packages\\matplotlib\\mpl-data\\stylelib\\_classic_test_patch.mplstyle.\n",
      "You probably need to get an updated matplotlibrc file from\n",
      "https://github.com/matplotlib/matplotlib/blob/v3.1.3/matplotlibrc.template\n",
      "or from the matplotlib source distribution\n"
     ]
    }
   ],
   "source": [
    "import pandas as pd\n",
    "import numpy as np\n",
    "from sklearn.preprocessing import Normalizer\n",
    "from sklearn.pipeline import make_pipeline\n",
    "from sklearn.cluster import KMeans\n",
    "\n",
    "\n",
    "import matplotlib.pyplot as plt\n",
    "import seaborn as sns"
   ]
  },
  {
   "cell_type": "code",
   "execution_count": 2,
   "metadata": {},
   "outputs": [],
   "source": [
    "def calculate_profit(ticker , from_date , to_date):\n",
    "    filename = ('stocks/{0}.csv').format(ticker)\n",
    "    data = pd.read_csv(filename)\n",
    "    data = data.loc[ (data['Date'] >= from_date) & (data['Date'] <= to_date)]\n",
    "    change_Percent  =  (data.iloc[-1]['Adj Close'] -  data.iloc[0]['Adj Close']) * 100 /  data.iloc[0]['Adj Close']\n",
    "    print(ticker, np.round(change_Percent,3))\n",
    "    "
   ]
  },
  {
   "cell_type": "code",
   "execution_count": 3,
   "metadata": {},
   "outputs": [
    {
     "data": {
      "text/html": [
       "<div>\n",
       "<style scoped>\n",
       "    .dataframe tbody tr th:only-of-type {\n",
       "        vertical-align: middle;\n",
       "    }\n",
       "\n",
       "    .dataframe tbody tr th {\n",
       "        vertical-align: top;\n",
       "    }\n",
       "\n",
       "    .dataframe thead th {\n",
       "        text-align: right;\n",
       "    }\n",
       "</style>\n",
       "<table border=\"1\" class=\"dataframe\">\n",
       "  <thead>\n",
       "    <tr style=\"text-align: right;\">\n",
       "      <th></th>\n",
       "      <th>2019-01-14</th>\n",
       "      <th>2019-01-15</th>\n",
       "      <th>2019-01-16</th>\n",
       "      <th>2019-01-17</th>\n",
       "      <th>2019-01-18</th>\n",
       "      <th>2019-01-22</th>\n",
       "      <th>2019-01-23</th>\n",
       "      <th>2019-01-24</th>\n",
       "      <th>2019-01-25</th>\n",
       "      <th>2019-01-28</th>\n",
       "      <th>...</th>\n",
       "      <th>2019-12-17</th>\n",
       "      <th>2019-12-18</th>\n",
       "      <th>2019-12-19</th>\n",
       "      <th>2019-12-20</th>\n",
       "      <th>2019-12-23</th>\n",
       "      <th>2019-12-24</th>\n",
       "      <th>2019-12-26</th>\n",
       "      <th>2019-12-27</th>\n",
       "      <th>2019-12-30</th>\n",
       "      <th>2019-12-31</th>\n",
       "    </tr>\n",
       "    <tr>\n",
       "      <th>Symbol</th>\n",
       "      <th></th>\n",
       "      <th></th>\n",
       "      <th></th>\n",
       "      <th></th>\n",
       "      <th></th>\n",
       "      <th></th>\n",
       "      <th></th>\n",
       "      <th></th>\n",
       "      <th></th>\n",
       "      <th></th>\n",
       "      <th></th>\n",
       "      <th></th>\n",
       "      <th></th>\n",
       "      <th></th>\n",
       "      <th></th>\n",
       "      <th></th>\n",
       "      <th></th>\n",
       "      <th></th>\n",
       "      <th></th>\n",
       "      <th></th>\n",
       "      <th></th>\n",
       "    </tr>\n",
       "  </thead>\n",
       "  <tbody>\n",
       "    <tr>\n",
       "      <th>A</th>\n",
       "      <td>68.659694</td>\n",
       "      <td>69.207608</td>\n",
       "      <td>69.361896</td>\n",
       "      <td>69.543875</td>\n",
       "      <td>69.850471</td>\n",
       "      <td>70.161023</td>\n",
       "      <td>70.368719</td>\n",
       "      <td>70.794000</td>\n",
       "      <td>71.353786</td>\n",
       "      <td>71.618842</td>\n",
       "      <td>...</td>\n",
       "      <td>83.677893</td>\n",
       "      <td>83.679884</td>\n",
       "      <td>83.620163</td>\n",
       "      <td>83.914789</td>\n",
       "      <td>84.076038</td>\n",
       "      <td>84.344786</td>\n",
       "      <td>84.746910</td>\n",
       "      <td>84.928065</td>\n",
       "      <td>84.906026</td>\n",
       "      <td>84.951842</td>\n",
       "    </tr>\n",
       "    <tr>\n",
       "      <th>AAL</th>\n",
       "      <td>31.764372</td>\n",
       "      <td>31.701391</td>\n",
       "      <td>31.587237</td>\n",
       "      <td>31.890335</td>\n",
       "      <td>32.317430</td>\n",
       "      <td>32.520153</td>\n",
       "      <td>32.431585</td>\n",
       "      <td>32.592976</td>\n",
       "      <td>32.868521</td>\n",
       "      <td>33.380246</td>\n",
       "      <td>...</td>\n",
       "      <td>27.550188</td>\n",
       "      <td>27.777349</td>\n",
       "      <td>27.942738</td>\n",
       "      <td>28.253589</td>\n",
       "      <td>28.528573</td>\n",
       "      <td>28.707910</td>\n",
       "      <td>29.040680</td>\n",
       "      <td>29.018761</td>\n",
       "      <td>28.871306</td>\n",
       "      <td>28.747763</td>\n",
       "    </tr>\n",
       "    <tr>\n",
       "      <th>AAP</th>\n",
       "      <td>160.831351</td>\n",
       "      <td>160.883127</td>\n",
       "      <td>160.486853</td>\n",
       "      <td>160.727798</td>\n",
       "      <td>162.358691</td>\n",
       "      <td>163.435999</td>\n",
       "      <td>164.242480</td>\n",
       "      <td>163.021799</td>\n",
       "      <td>160.421127</td>\n",
       "      <td>157.882187</td>\n",
       "      <td>...</td>\n",
       "      <td>155.244272</td>\n",
       "      <td>155.668912</td>\n",
       "      <td>155.752530</td>\n",
       "      <td>156.344638</td>\n",
       "      <td>157.646619</td>\n",
       "      <td>158.175125</td>\n",
       "      <td>158.434393</td>\n",
       "      <td>158.807343</td>\n",
       "      <td>159.006781</td>\n",
       "      <td>159.044675</td>\n",
       "    </tr>\n",
       "    <tr>\n",
       "      <th>AAPL</th>\n",
       "      <td>149.021536</td>\n",
       "      <td>149.476358</td>\n",
       "      <td>149.795911</td>\n",
       "      <td>150.199753</td>\n",
       "      <td>151.087827</td>\n",
       "      <td>151.734766</td>\n",
       "      <td>151.901398</td>\n",
       "      <td>151.462256</td>\n",
       "      <td>151.834738</td>\n",
       "      <td>151.732797</td>\n",
       "      <td>...</td>\n",
       "      <td>274.135553</td>\n",
       "      <td>275.920471</td>\n",
       "      <td>277.623804</td>\n",
       "      <td>278.477460</td>\n",
       "      <td>279.301276</td>\n",
       "      <td>280.069360</td>\n",
       "      <td>282.093066</td>\n",
       "      <td>284.039166</td>\n",
       "      <td>286.442938</td>\n",
       "      <td>288.363165</td>\n",
       "    </tr>\n",
       "    <tr>\n",
       "      <th>ABBV</th>\n",
       "      <td>79.963240</td>\n",
       "      <td>79.194032</td>\n",
       "      <td>78.974455</td>\n",
       "      <td>78.987061</td>\n",
       "      <td>79.401961</td>\n",
       "      <td>80.117938</td>\n",
       "      <td>80.659509</td>\n",
       "      <td>80.720093</td>\n",
       "      <td>79.497426</td>\n",
       "      <td>77.228326</td>\n",
       "      <td>...</td>\n",
       "      <td>86.091547</td>\n",
       "      <td>86.602910</td>\n",
       "      <td>86.610686</td>\n",
       "      <td>86.892615</td>\n",
       "      <td>87.052051</td>\n",
       "      <td>87.007330</td>\n",
       "      <td>87.104547</td>\n",
       "      <td>87.188153</td>\n",
       "      <td>87.038440</td>\n",
       "      <td>86.705959</td>\n",
       "    </tr>\n",
       "  </tbody>\n",
       "</table>\n",
       "<p>5 rows × 244 columns</p>\n",
       "</div>"
      ],
      "text/plain": [
       "        2019-01-14  2019-01-15  2019-01-16  2019-01-17  2019-01-18  \\\n",
       "Symbol                                                               \n",
       "A        68.659694   69.207608   69.361896   69.543875   69.850471   \n",
       "AAL      31.764372   31.701391   31.587237   31.890335   32.317430   \n",
       "AAP     160.831351  160.883127  160.486853  160.727798  162.358691   \n",
       "AAPL    149.021536  149.476358  149.795911  150.199753  151.087827   \n",
       "ABBV     79.963240   79.194032   78.974455   78.987061   79.401961   \n",
       "\n",
       "        2019-01-22  2019-01-23  2019-01-24  2019-01-25  2019-01-28  ...  \\\n",
       "Symbol                                                              ...   \n",
       "A        70.161023   70.368719   70.794000   71.353786   71.618842  ...   \n",
       "AAL      32.520153   32.431585   32.592976   32.868521   33.380246  ...   \n",
       "AAP     163.435999  164.242480  163.021799  160.421127  157.882187  ...   \n",
       "AAPL    151.734766  151.901398  151.462256  151.834738  151.732797  ...   \n",
       "ABBV     80.117938   80.659509   80.720093   79.497426   77.228326  ...   \n",
       "\n",
       "        2019-12-17  2019-12-18  2019-12-19  2019-12-20  2019-12-23  \\\n",
       "Symbol                                                               \n",
       "A        83.677893   83.679884   83.620163   83.914789   84.076038   \n",
       "AAL      27.550188   27.777349   27.942738   28.253589   28.528573   \n",
       "AAP     155.244272  155.668912  155.752530  156.344638  157.646619   \n",
       "AAPL    274.135553  275.920471  277.623804  278.477460  279.301276   \n",
       "ABBV     86.091547   86.602910   86.610686   86.892615   87.052051   \n",
       "\n",
       "        2019-12-24  2019-12-26  2019-12-27  2019-12-30  2019-12-31  \n",
       "Symbol                                                              \n",
       "A        84.344786   84.746910   84.928065   84.906026   84.951842  \n",
       "AAL      28.707910   29.040680   29.018761   28.871306   28.747763  \n",
       "AAP     158.175125  158.434393  158.807343  159.006781  159.044675  \n",
       "AAPL    280.069360  282.093066  284.039166  286.442938  288.363165  \n",
       "ABBV     87.007330   87.104547   87.188153   87.038440   86.705959  \n",
       "\n",
       "[5 rows x 244 columns]"
      ]
     },
     "execution_count": 3,
     "metadata": {},
     "output_type": "execute_result"
    }
   ],
   "source": [
    "df = pd.read_csv('stocks/total_data_changePercent_Symbol.csv', index_col='Symbol')\n",
    "df.head()"
   ]
  },
  {
   "cell_type": "code",
   "execution_count": 4,
   "metadata": {},
   "outputs": [],
   "source": [
    "symbols = df.index.to_numpy()\n",
    "data = df.to_numpy()\n"
   ]
  },
  {
   "cell_type": "code",
   "execution_count": 5,
   "metadata": {},
   "outputs": [],
   "source": [
    "# define normalizer\n",
    "normalizer = Normalizer()\n",
    "\n",
    "# create a K-means model with 20 clusters\n",
    "kmeans = KMeans(n_clusters=10, max_iter=1000 , n_init = 30)\n",
    "\n",
    "# make a pipeline chaining normalizer and kmeans\n",
    "pipeline = make_pipeline(normalizer,kmeans)"
   ]
  },
  {
   "cell_type": "code",
   "execution_count": 6,
   "metadata": {},
   "outputs": [
    {
     "data": {
      "text/plain": [
       "Pipeline(memory=None,\n",
       "         steps=[('normalizer', Normalizer(copy=True, norm='l2')),\n",
       "                ('kmeans',\n",
       "                 KMeans(algorithm='auto', copy_x=True, init='k-means++',\n",
       "                        max_iter=1000, n_clusters=10, n_init=30, n_jobs=None,\n",
       "                        precompute_distances='auto', random_state=None,\n",
       "                        tol=0.0001, verbose=0))],\n",
       "         verbose=False)"
      ]
     },
     "execution_count": 6,
     "metadata": {},
     "output_type": "execute_result"
    }
   ],
   "source": [
    "pipeline.fit(data)"
   ]
  },
  {
   "cell_type": "code",
   "execution_count": 7,
   "metadata": {},
   "outputs": [
    {
     "data": {
      "text/html": [
       "<div>\n",
       "<style scoped>\n",
       "    .dataframe tbody tr th:only-of-type {\n",
       "        vertical-align: middle;\n",
       "    }\n",
       "\n",
       "    .dataframe tbody tr th {\n",
       "        vertical-align: top;\n",
       "    }\n",
       "\n",
       "    .dataframe thead th {\n",
       "        text-align: right;\n",
       "    }\n",
       "</style>\n",
       "<table border=\"1\" class=\"dataframe\">\n",
       "  <thead>\n",
       "    <tr style=\"text-align: right;\">\n",
       "      <th></th>\n",
       "      <th>Cluster</th>\n",
       "      <th>Symbol</th>\n",
       "    </tr>\n",
       "  </thead>\n",
       "  <tbody>\n",
       "    <tr>\n",
       "      <th>163</th>\n",
       "      <td>0</td>\n",
       "      <td>EVRG</td>\n",
       "    </tr>\n",
       "    <tr>\n",
       "      <th>69</th>\n",
       "      <td>0</td>\n",
       "      <td>BR</td>\n",
       "    </tr>\n",
       "    <tr>\n",
       "      <th>413</th>\n",
       "      <td>0</td>\n",
       "      <td>STE</td>\n",
       "    </tr>\n",
       "    <tr>\n",
       "      <th>67</th>\n",
       "      <td>0</td>\n",
       "      <td>BLL</td>\n",
       "    </tr>\n",
       "    <tr>\n",
       "      <th>384</th>\n",
       "      <td>0</td>\n",
       "      <td>RE</td>\n",
       "    </tr>\n",
       "    <tr>\n",
       "      <th>...</th>\n",
       "      <td>...</td>\n",
       "      <td>...</td>\n",
       "    </tr>\n",
       "    <tr>\n",
       "      <th>309</th>\n",
       "      <td>9</td>\n",
       "      <td>MOS</td>\n",
       "    </tr>\n",
       "    <tr>\n",
       "      <th>312</th>\n",
       "      <td>9</td>\n",
       "      <td>MRO</td>\n",
       "    </tr>\n",
       "    <tr>\n",
       "      <th>321</th>\n",
       "      <td>9</td>\n",
       "      <td>MYL</td>\n",
       "    </tr>\n",
       "    <tr>\n",
       "      <th>43</th>\n",
       "      <td>9</td>\n",
       "      <td>APA</td>\n",
       "    </tr>\n",
       "    <tr>\n",
       "      <th>205</th>\n",
       "      <td>9</td>\n",
       "      <td>HAL</td>\n",
       "    </tr>\n",
       "  </tbody>\n",
       "</table>\n",
       "<p>493 rows × 2 columns</p>\n",
       "</div>"
      ],
      "text/plain": [
       "     Cluster Symbol\n",
       "163        0   EVRG\n",
       "69         0     BR\n",
       "413        0    STE\n",
       "67         0    BLL\n",
       "384        0     RE\n",
       "..       ...    ...\n",
       "309        9    MOS\n",
       "312        9    MRO\n",
       "321        9    MYL\n",
       "43         9    APA\n",
       "205        9    HAL\n",
       "\n",
       "[493 rows x 2 columns]"
      ]
     },
     "execution_count": 7,
     "metadata": {},
     "output_type": "execute_result"
    }
   ],
   "source": [
    "# predict cluster labels\n",
    "labels = pipeline.predict(data)\n",
    "\n",
    "# create a DataFrame aligning labels & companies\n",
    "df_result = pd.DataFrame({'Cluster': labels, 'Symbol': symbols})\n",
    "\n",
    "# display df sorted by cluster labels\n",
    "df_result.sort_values('Cluster')"
   ]
  },
  {
   "cell_type": "code",
   "execution_count": 16,
   "metadata": {},
   "outputs": [
    {
     "name": "stdout",
     "output_type": "stream",
     "text": [
      "7 ['A', 'AAP', 'ADM', 'ADSK', 'AES', 'AMCR', 'ANTM', 'AOS', 'BA', 'BK', 'BWA', 'BXP', 'CAT', 'CRM', 'CSX', 'DISCA', 'DISCK', 'DPZ', 'EA', 'EMN', 'EXPD', 'FRC', 'GE', 'GILD', 'GM', 'GPC', 'HCA', 'HOG', 'HPE', 'HPQ', 'HRL', 'HST', 'IFF', 'ILMN', 'INCY', 'IP', 'IPG', 'IRM', 'ISRG', 'IT', 'JNJ', 'LLY', 'LNC', 'LUV', 'LVS', 'MHK', 'MO', 'MTB', 'NCLH', 'NRG', 'NUE', 'PBCT', 'PKI', 'PM', 'PRU', 'RCL', 'RHI', 'RJF', 'SCHW', 'SIVB', 'SLG', 'SNA', 'UNP', 'VAR', 'VNO', 'WAB', 'WAT', 'WYNN', 'ZION']\n"
     ]
    }
   ],
   "source": [
    "cls = 7\n",
    "symbols =  df_result[df_result['Cluster'] == cls]['Symbol'].tolist()\n",
    "print(cls, symbols)"
   ]
  },
  {
   "cell_type": "code",
   "execution_count": 17,
   "metadata": {
    "scrolled": true
   },
   "outputs": [
    {
     "name": "stdout",
     "output_type": "stream",
     "text": [
      "A 30.976\n",
      "AAP 1.573\n",
      "ADM 17.16\n",
      "ADSK 42.261\n",
      "AES 44.954\n",
      "AMCR 23.082\n",
      "ANTM 19.806\n",
      "AOS 11.636\n",
      "BA 2.92\n",
      "BK 8.565\n",
      "BWA 25.722\n",
      "BXP 30.015\n",
      "CAT 20.166\n",
      "CRM 19.985\n",
      "CSX 18.4\n",
      "DISCA 26.752\n",
      "DISCK 27.948\n",
      "DPZ 21.936\n",
      "EA 33.769\n",
      "EMN 12.037\n",
      "EXPD 17.517\n",
      "FRC 35.225\n",
      "GE 44.758\n",
      "GILD 6.367\n",
      "GM 13.374\n",
      "GPC 15.528\n",
      "HCA 22.901\n",
      "HOG 13.749\n",
      "HPE 21.438\n",
      "HPQ 3.02\n",
      "HRL 11.372\n",
      "HST 17.378\n",
      "IFF -1.922\n",
      "ILMN 12.638\n",
      "INCY 37.382\n",
      "IP 17.548\n",
      "IPG 19.209\n",
      "IRM 6.892\n",
      "ISRG 26.848\n",
      "IT 22.447\n",
      "JNJ 17.403\n",
      "LLY 16.989\n",
      "LNC 17.45\n",
      "LUV 16.073\n",
      "LVS 34.103\n",
      "MHK 14.992\n",
      "MO 8.045\n",
      "MTB 20.173\n",
      "NCLH 37.824\n",
      "NRG 4.625\n",
      "NUE 10.984\n",
      "PBCT 19.965\n",
      "PKI 26.634\n",
      "PM 33.918\n",
      "PRU 18.477\n",
      "RCL 39.942\n",
      "RHI 14.072\n",
      "RJF 22.845\n",
      "SCHW 16.237\n",
      "SIVB 28.186\n",
      "SLG 22.983\n",
      "SNA 17.777\n",
      "UNP 34.137\n",
      "VAR 26.041\n",
      "VNO 18.106\n",
      "WAB 10.503\n",
      "WAT 27.392\n",
      "WYNN 37.37\n",
      "ZION 28.351\n"
     ]
    }
   ],
   "source": [
    "for s in symbols: \n",
    "    calculate_profit(s , '2019-01-01' , '2019-12-31')"
   ]
  },
  {
   "cell_type": "code",
   "execution_count": 18,
   "metadata": {},
   "outputs": [
    {
     "data": {
      "text/plain": [
       "<matplotlib.axes._subplots.AxesSubplot at 0x1f32142e948>"
      ]
     },
     "execution_count": 18,
     "metadata": {},
     "output_type": "execute_result"
    },
    {
     "data": {
      "image/png": "[encoded data removed]",
      "text/plain": [
       "<Figure size 1008x432 with 1 Axes>"
      ]
     },
     "metadata": {},
     "output_type": "display_data"
    }
   ],
   "source": [
    "sns.set(rc={'figure.figsize':(14, 6)})\n",
    "df.loc['LLY'].plot()"
   ]
  },
  {
   "cell_type": "code",
   "execution_count": 19,
   "metadata": {},
   "outputs": [
    {
     "data": {
      "text/plain": [
       "<matplotlib.axes._subplots.AxesSubplot at 0x1f321421988>"
      ]
     },
     "execution_count": 19,
     "metadata": {},
     "output_type": "execute_result"
    },
    {
     "data": {
      "image/png": "[encoded data removed]",
      "text/plain": [
       "<Figure size 1008x432 with 1 Axes>"
      ]
     },
     "metadata": {},
     "output_type": "display_data"
    }
   ],
   "source": [
    "df.loc['LNC'].plot()"
   ]
  }
 ],
 "metadata": {
  "kernelspec": {
   "display_name": "Python 3",
   "language": "python",
   "name": "python3"
  },
  "language_info": {
   "codemirror_mode": {
    "name": "ipython",
    "version": 3
   },
   "file_extension": ".py",
   "mimetype": "text/x-python",
   "name": "python",
   "nbconvert_exporter": "python",
   "pygments_lexer": "ipython3",
   "version": "3.7.7"
  }
 },
 "nbformat": 4,
 "nbformat_minor": 4
}
