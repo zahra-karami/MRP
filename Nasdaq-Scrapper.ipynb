{
 "cells": [
  {
   "cell_type": "code",
   "execution_count": 4,
   "metadata": {},
   "outputs": [],
   "source": [
    "#! pip install yfinance\n"
   ]
  },
  {
   "cell_type": "code",
   "execution_count": null,
   "metadata": {},
   "outputs": [],
   "source": [
    "! mkdir hist\n",
    "! mkdir stocks\n",
    "! mkdir etfs\n"
   ]
  },
  {
   "cell_type": "code",
   "execution_count": 3,
   "metadata": {},
   "outputs": [],
   "source": [
    "import yfinance as yf\n",
    "import os, contextlib\n",
    "import pandas as pd \n",
    "import shutil\n",
    "from os.path import isfile, join"
   ]
  },
  {
   "cell_type": "code",
   "execution_count": null,
   "metadata": {},
   "outputs": [],
   "source": [
    "offset = 0\n",
    "limit = 3000\n",
    "period = 'max'"
   ]
  },
  {
   "cell_type": "code",
   "execution_count": null,
   "metadata": {},
   "outputs": [],
   "source": [
    "data = pd.read_csv(\"http://www.nasdaqtrader.com/dynamic/SymDir/nasdaqtraded.txt\", sep='|')\n",
    "data_clean = data[data['Test Issue'] == 'N']\n",
    "symbols = data_clean['NASDAQ Symbol'].tolist()\n",
    "print('total number of symbols traded = {}'.format(len(symbols)))"
   ]
  },
  {
   "cell_type": "code",
   "execution_count": null,
   "metadata": {},
   "outputs": [],
   "source": [
    "%%time\n",
    "\n",
    "limit = limit if limit else len(symbols)\n",
    "end = min(offset + limit, len(symbols))\n",
    "is_valid = [False] * len(symbols)\n",
    "# force silencing of verbose API\n",
    "with open(os.devnull, 'w') as devnull:\n",
    "    with contextlib.redirect_stdout(devnull):\n",
    "        for i in range(offset, end):\n",
    "            s = symbols[i]\n",
    "            data = yf.download(s, period=period)\n",
    "            if len(data.index) == 0:\n",
    "                continue\n",
    "        \n",
    "            is_valid[i] = True\n",
    "            data.to_csv('hist/{}.csv'.format(s))\n",
    "\n",
    "print('Total number of valid symbols downloaded = {}'.format(sum(is_valid)))"
   ]
  },
  {
   "cell_type": "code",
   "execution_count": null,
   "metadata": {},
   "outputs": [],
   "source": [
    "valid_data = data_clean[is_valid]\n",
    "valid_data.to_csv('symbols_valid_meta.csv', index=False)"
   ]
  },
  {
   "cell_type": "code",
   "execution_count": null,
   "metadata": {},
   "outputs": [],
   "source": [
    "etfs = valid_data[valid_data['ETF'] == 'Y']['NASDAQ Symbol'].tolist()\n",
    "stocks = valid_data[valid_data['ETF'] == 'N']['NASDAQ Symbol'].tolist()"
   ]
  },
  {
   "cell_type": "code",
   "execution_count": null,
   "metadata": {},
   "outputs": [],
   "source": [
    "def move_symbols(symbols, dest):\n",
    "    for s in symbols:\n",
    "        filename = '{}.csv'.format(s)\n",
    "        shutil.move(join('hist', filename), join(dest, filename))\n",
    "        \n",
    "move_symbols(etfs, \"etfs\")\n",
    "move_symbols(stocks, \"stocks\")"
   ]
  },
  {
   "cell_type": "code",
   "execution_count": null,
   "metadata": {},
   "outputs": [],
   "source": [
    "! rmdir hist"
   ]
  }
 ],
 "metadata": {
  "kernelspec": {
   "display_name": "Python 3",
   "language": "python",
   "name": "python3"
  },
  "language_info": {
   "codemirror_mode": {
    "name": "ipython",
    "version": 3
   },
   "file_extension": ".py",
   "mimetype": "text/x-python",
   "name": "python",
   "nbconvert_exporter": "python",
   "pygments_lexer": "ipython3",
   "version": "3.7.7"
  }
 },
 "nbformat": 4,
 "nbformat_minor": 4
}
