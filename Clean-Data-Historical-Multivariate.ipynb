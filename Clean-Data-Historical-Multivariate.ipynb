{
 "cells": [
  {
   "cell_type": "code",
   "execution_count": 1,
   "metadata": {},
   "outputs": [
    {
     "name": "stderr",
     "output_type": "stream",
     "text": [
      "\n",
      "Bad key \"text.kerning_factor\" on line 4 in\n",
      "C:\\ProgramData\\Anaconda3\\lib\\site-packages\\matplotlib\\mpl-data\\stylelib\\_classic_test_patch.mplstyle.\n",
      "You probably need to get an updated matplotlibrc file from\n",
      "https://github.com/matplotlib/matplotlib/blob/v3.1.3/matplotlibrc.template\n",
      "or from the matplotlib source distribution\n"
     ]
    }
   ],
   "source": [
    "import pandas as pd\n",
    "import numpy as np\n",
    "\n",
    "import matplotlib.pyplot as plt\n",
    "import seaborn as sns\n",
    "\n",
    "from datetime import date\n",
    "import glob"
   ]
  },
  {
   "cell_type": "code",
   "execution_count": 2,
   "metadata": {},
   "outputs": [
    {
     "data": {
      "text/html": [
       "<div>\n",
       "<style scoped>\n",
       "    .dataframe tbody tr th:only-of-type {\n",
       "        vertical-align: middle;\n",
       "    }\n",
       "\n",
       "    .dataframe tbody tr th {\n",
       "        vertical-align: top;\n",
       "    }\n",
       "\n",
       "    .dataframe thead th {\n",
       "        text-align: right;\n",
       "    }\n",
       "</style>\n",
       "<table border=\"1\" class=\"dataframe\">\n",
       "  <thead>\n",
       "    <tr style=\"text-align: right;\">\n",
       "      <th></th>\n",
       "      <th>Security</th>\n",
       "      <th>GICS Sector</th>\n",
       "      <th>GICS Sub Industry</th>\n",
       "      <th>CIK</th>\n",
       "    </tr>\n",
       "    <tr>\n",
       "      <th>Symbol</th>\n",
       "      <th></th>\n",
       "      <th></th>\n",
       "      <th></th>\n",
       "      <th></th>\n",
       "    </tr>\n",
       "  </thead>\n",
       "  <tbody>\n",
       "    <tr>\n",
       "      <th>MMM</th>\n",
       "      <td>3M Company</td>\n",
       "      <td>Industrials</td>\n",
       "      <td>Industrial Conglomerates</td>\n",
       "      <td>66740</td>\n",
       "    </tr>\n",
       "    <tr>\n",
       "      <th>ABT</th>\n",
       "      <td>Abbott Laboratories</td>\n",
       "      <td>Health Care</td>\n",
       "      <td>Health Care Equipment</td>\n",
       "      <td>1800</td>\n",
       "    </tr>\n",
       "    <tr>\n",
       "      <th>ABBV</th>\n",
       "      <td>AbbVie Inc.</td>\n",
       "      <td>Health Care</td>\n",
       "      <td>Pharmaceuticals</td>\n",
       "      <td>1551152</td>\n",
       "    </tr>\n",
       "    <tr>\n",
       "      <th>ABMD</th>\n",
       "      <td>ABIOMED Inc</td>\n",
       "      <td>Health Care</td>\n",
       "      <td>Health Care Equipment</td>\n",
       "      <td>815094</td>\n",
       "    </tr>\n",
       "    <tr>\n",
       "      <th>ACN</th>\n",
       "      <td>Accenture plc</td>\n",
       "      <td>Information Technology</td>\n",
       "      <td>IT Consulting &amp; Other Services</td>\n",
       "      <td>1467373</td>\n",
       "    </tr>\n",
       "  </tbody>\n",
       "</table>\n",
       "</div>"
      ],
      "text/plain": [
       "                   Security             GICS Sector  \\\n",
       "Symbol                                                \n",
       "MMM              3M Company             Industrials   \n",
       "ABT     Abbott Laboratories             Health Care   \n",
       "ABBV            AbbVie Inc.             Health Care   \n",
       "ABMD            ABIOMED Inc             Health Care   \n",
       "ACN           Accenture plc  Information Technology   \n",
       "\n",
       "                     GICS Sub Industry      CIK  \n",
       "Symbol                                           \n",
       "MMM           Industrial Conglomerates    66740  \n",
       "ABT              Health Care Equipment     1800  \n",
       "ABBV                   Pharmaceuticals  1551152  \n",
       "ABMD             Health Care Equipment   815094  \n",
       "ACN     IT Consulting & Other Services  1467373  "
      ]
     },
     "execution_count": 2,
     "metadata": {},
     "output_type": "execute_result"
    }
   ],
   "source": [
    "df_info  = pd.read_csv('SPindex.csv')\n",
    "df_info = df_info.set_index('Symbol')\n",
    "df_info.head()"
   ]
  },
  {
   "cell_type": "code",
   "execution_count": 3,
   "metadata": {},
   "outputs": [],
   "source": [
    "def check_file_existance(file_ids , tmpl):\n",
    "    files = []\n",
    "    path = tmpl.format(subject = '*')\n",
    "    directory_files = glob.glob(path , recursive=True)\n",
    "\n",
    "    for f_name in file_ids:\n",
    "        filename = tmpl.format(subject = f_name)\n",
    "        if filename in directory_files:\n",
    "            files.append((f_name , filename))\n",
    "        else:\n",
    "            files.append((f_name , 'None'))\n",
    "    return files\n"
   ]
  },
  {
   "cell_type": "markdown",
   "metadata": {},
   "source": [
    "## Load Data From Files"
   ]
  },
  {
   "cell_type": "code",
   "execution_count": 4,
   "metadata": {},
   "outputs": [],
   "source": [
    "def loadData(files , from_date , to_date):\n",
    "    total  =  []\n",
    "    \n",
    "    for i in range(len(files)):\n",
    "        file_id = files[i][0]\n",
    "        filename = files[i][1]\n",
    "\n",
    "        df = pd.read_csv(filename)\n",
    "        df = df.loc[ (df['Date'] >= from_date) & (df['Date'] <= to_date)]\n",
    "        \n",
    "        df.dropna(inplace = True)\n",
    "        \n",
    "        #check for range\n",
    "        max_date = df['Date'].max()\n",
    "        min_date = df['Date'].min()\n",
    "\n",
    "        if ( max_date == to_date and min_date == from_date ) :        \n",
    "            df.insert(0,'Symbol',file_id)\n",
    "            total.append(df)\n",
    "    \n",
    "    return total"
   ]
  },
  {
   "cell_type": "code",
   "execution_count": 5,
   "metadata": {},
   "outputs": [],
   "source": [
    "from_date = '2019-01-02'\n",
    "to_date = '2020-03-31'\n",
    "symbol_names = list(df_info.index)\n",
    "files = check_file_existance(symbol_names , 'stocks\\{subject}.csv')\n",
    "total = loadData(files , from_date ,  to_date)\n",
    "total2 = total"
   ]
  },
  {
   "cell_type": "markdown",
   "metadata": {},
   "source": [
    "## Clean Data and Create Total File"
   ]
  },
  {
   "cell_type": "code",
   "execution_count": 6,
   "metadata": {},
   "outputs": [],
   "source": [
    "def clean_Data (ls_files):\n",
    "    result = []\n",
    "    for df in ls_files:\n",
    "        df.dropna(inplace = True) \n",
    "        df['Close_Rolling'] = df['Adj Close'].rolling(3).mean()\n",
    "        df['Close1']  = df['Adj Close'].shift()\n",
    "        df['Return'] = (df['Adj Close'] - df.Close1)        \n",
    "        df['ReturnPercent'] = df['Return'] * 100 /  df['Adj Close']    \n",
    "        df['Profit'] =  df['Return'].cumsum()\n",
    "        df['Range'] = (df['High'] - df['Low'])\n",
    "                \n",
    "        new_df = df[['Symbol', 'Date', 'Close_Rolling','Profit','Range','ReturnPercent', 'Volume']].copy()\n",
    "        new_df.dropna(inplace = True)\n",
    "        result.append(new_df)\n",
    "        \n",
    "        \n",
    "    dataset = pd.concat(result)\n",
    "    return dataset"
   ]
  },
  {
   "cell_type": "code",
   "execution_count": 7,
   "metadata": {},
   "outputs": [
    {
     "data": {
      "text/html": [
       "<div>\n",
       "<style scoped>\n",
       "    .dataframe tbody tr th:only-of-type {\n",
       "        vertical-align: middle;\n",
       "    }\n",
       "\n",
       "    .dataframe tbody tr th {\n",
       "        vertical-align: top;\n",
       "    }\n",
       "\n",
       "    .dataframe thead th {\n",
       "        text-align: right;\n",
       "    }\n",
       "</style>\n",
       "<table border=\"1\" class=\"dataframe\">\n",
       "  <thead>\n",
       "    <tr style=\"text-align: right;\">\n",
       "      <th></th>\n",
       "      <th>Symbol</th>\n",
       "      <th>Date</th>\n",
       "      <th>Close_Rolling</th>\n",
       "      <th>Profit</th>\n",
       "      <th>Range</th>\n",
       "      <th>ReturnPercent</th>\n",
       "      <th>Volume</th>\n",
       "    </tr>\n",
       "  </thead>\n",
       "  <tbody>\n",
       "    <tr>\n",
       "      <th>1798</th>\n",
       "      <td>ZTS</td>\n",
       "      <td>2020-03-25</td>\n",
       "      <td>101.379300</td>\n",
       "      <td>24.346748</td>\n",
       "      <td>12.470001</td>\n",
       "      <td>4.112373</td>\n",
       "      <td>4424800.0</td>\n",
       "    </tr>\n",
       "    <tr>\n",
       "      <th>1799</th>\n",
       "      <td>ZTS</td>\n",
       "      <td>2020-03-26</td>\n",
       "      <td>109.782369</td>\n",
       "      <td>34.031082</td>\n",
       "      <td>9.180000</td>\n",
       "      <td>8.226616</td>\n",
       "      <td>4159000.0</td>\n",
       "    </tr>\n",
       "    <tr>\n",
       "      <th>1800</th>\n",
       "      <td>ZTS</td>\n",
       "      <td>2020-03-27</td>\n",
       "      <td>112.448054</td>\n",
       "      <td>27.900993</td>\n",
       "      <td>6.739998</td>\n",
       "      <td>-5.493431</td>\n",
       "      <td>2870100.0</td>\n",
       "    </tr>\n",
       "    <tr>\n",
       "      <th>1801</th>\n",
       "      <td>ZTS</td>\n",
       "      <td>2020-03-30</td>\n",
       "      <td>115.266828</td>\n",
       "      <td>32.803070</td>\n",
       "      <td>5.320000</td>\n",
       "      <td>4.208098</td>\n",
       "      <td>2031900.0</td>\n",
       "    </tr>\n",
       "    <tr>\n",
       "      <th>1802</th>\n",
       "      <td>ZTS</td>\n",
       "      <td>2020-03-31</td>\n",
       "      <td>115.193614</td>\n",
       "      <td>33.811440</td>\n",
       "      <td>6.349998</td>\n",
       "      <td>0.858188</td>\n",
       "      <td>3956000.0</td>\n",
       "    </tr>\n",
       "  </tbody>\n",
       "</table>\n",
       "</div>"
      ],
      "text/plain": [
       "     Symbol        Date  Close_Rolling     Profit      Range  ReturnPercent  \\\n",
       "1798    ZTS  2020-03-25     101.379300  24.346748  12.470001       4.112373   \n",
       "1799    ZTS  2020-03-26     109.782369  34.031082   9.180000       8.226616   \n",
       "1800    ZTS  2020-03-27     112.448054  27.900993   6.739998      -5.493431   \n",
       "1801    ZTS  2020-03-30     115.266828  32.803070   5.320000       4.208098   \n",
       "1802    ZTS  2020-03-31     115.193614  33.811440   6.349998       0.858188   \n",
       "\n",
       "         Volume  \n",
       "1798  4424800.0  \n",
       "1799  4159000.0  \n",
       "1800  2870100.0  \n",
       "1801  2031900.0  \n",
       "1802  3956000.0  "
      ]
     },
     "execution_count": 7,
     "metadata": {},
     "output_type": "execute_result"
    }
   ],
   "source": [
    "data = clean_Data(total)\n",
    "data.columns= ['Symbol', 'Date', 'Close_Rolling','Profit','Range','ReturnPercent', 'Volume']\n",
    "data.to_csv('stocks/total_clean.csv')\n",
    "data.tail()"
   ]
  },
  {
   "cell_type": "code",
   "execution_count": 8,
   "metadata": {},
   "outputs": [
    {
     "name": "stdout",
     "output_type": "stream",
     "text": [
      "47\n"
     ]
    }
   ],
   "source": [
    "for i in range(len(files)):\n",
    "    if files[i][0] == 'AAPL':\n",
    "        print(i)"
   ]
  },
  {
   "cell_type": "code",
   "execution_count": 9,
   "metadata": {},
   "outputs": [
    {
     "data": {
      "image/png": "[encoded data removed]",
      "text/plain": [
       "<Figure size 1008x432 with 1 Axes>"
      ]
     },
     "metadata": {},
     "output_type": "display_data"
    }
   ],
   "source": [
    "sns.set(rc={'figure.figsize':(14, 6)})\n",
    "total[2]['Adj Close'].plot(linewidth=0.8, label = 'Price')\n",
    "total[2]['Close_Rolling'].plot(linewidth=1.5 , label = 'Moving Average Price')\n",
    "total[2]['Range'].plot(linewidth=1.5, label = 'Profit')\n",
    "plt.legend()\n",
    "plt.show()\n",
    "#total[0]['Volume'].plot(linewidth=1)"
   ]
  },
  {
   "cell_type": "code",
   "execution_count": null,
   "metadata": {},
   "outputs": [],
   "source": []
  }
 ],
 "metadata": {
  "kernelspec": {
   "display_name": "Python 3",
   "language": "python",
   "name": "python3"
  },
  "language_info": {
   "codemirror_mode": {
    "name": "ipython",
    "version": 3
   },
   "file_extension": ".py",
   "mimetype": "text/x-python",
   "name": "python",
   "nbconvert_exporter": "python",
   "pygments_lexer": "ipython3",
   "version": "3.7.7"
  }
 },
 "nbformat": 4,
 "nbformat_minor": 4
}
