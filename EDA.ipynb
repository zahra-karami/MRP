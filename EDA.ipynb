{
 "cells": [
  {
   "cell_type": "code",
   "execution_count": 28,
   "metadata": {},
   "outputs": [],
   "source": [
    "import pandas as pd\n",
    "import matplotlib.pyplot as plt\n",
    "import seaborn as sns"
   ]
  },
  {
   "cell_type": "code",
   "execution_count": 29,
   "metadata": {},
   "outputs": [
    {
     "data": {
      "text/plain": [
       "Index(['Symbol', 'Date', 'Close', 'Profit', 'Range', 'Change', 'Volume'], dtype='object')"
      ]
     },
     "execution_count": 29,
     "metadata": {},
     "output_type": "execute_result"
    }
   ],
   "source": [
    "df.columns"
   ]
  },
  {
   "cell_type": "code",
   "execution_count": 30,
   "metadata": {},
   "outputs": [
    {
     "data": {
      "text/html": [
       "<div>\n",
       "<style scoped>\n",
       "    .dataframe tbody tr th:only-of-type {\n",
       "        vertical-align: middle;\n",
       "    }\n",
       "\n",
       "    .dataframe tbody tr th {\n",
       "        vertical-align: top;\n",
       "    }\n",
       "\n",
       "    .dataframe thead th {\n",
       "        text-align: right;\n",
       "    }\n",
       "</style>\n",
       "<table border=\"1\" class=\"dataframe\">\n",
       "  <thead>\n",
       "    <tr style=\"text-align: right;\">\n",
       "      <th></th>\n",
       "      <th>Symbol</th>\n",
       "      <th>Date</th>\n",
       "      <th>Close</th>\n",
       "      <th>Profit</th>\n",
       "      <th>Range</th>\n",
       "      <th>Change</th>\n",
       "      <th>Volume</th>\n",
       "    </tr>\n",
       "  </thead>\n",
       "  <tbody>\n",
       "    <tr>\n",
       "      <th>12365</th>\n",
       "      <td>MMM</td>\n",
       "      <td>2019-01-08</td>\n",
       "      <td>180.100610</td>\n",
       "      <td>0.692993</td>\n",
       "      <td>4.529999</td>\n",
       "      <td>0.417354</td>\n",
       "      <td>2479800.0</td>\n",
       "    </tr>\n",
       "    <tr>\n",
       "      <th>12366</th>\n",
       "      <td>MMM</td>\n",
       "      <td>2019-01-09</td>\n",
       "      <td>180.356924</td>\n",
       "      <td>1.281570</td>\n",
       "      <td>2.559998</td>\n",
       "      <td>0.322417</td>\n",
       "      <td>2163600.0</td>\n",
       "    </tr>\n",
       "    <tr>\n",
       "      <th>12367</th>\n",
       "      <td>MMM</td>\n",
       "      <td>2019-01-10</td>\n",
       "      <td>182.225162</td>\n",
       "      <td>2.515656</td>\n",
       "      <td>4.410004</td>\n",
       "      <td>0.671480</td>\n",
       "      <td>1939300.0</td>\n",
       "    </tr>\n",
       "    <tr>\n",
       "      <th>12368</th>\n",
       "      <td>MMM</td>\n",
       "      <td>2019-01-11</td>\n",
       "      <td>182.394144</td>\n",
       "      <td>1.196152</td>\n",
       "      <td>1.830002</td>\n",
       "      <td>-0.723149</td>\n",
       "      <td>2359900.0</td>\n",
       "    </tr>\n",
       "    <tr>\n",
       "      <th>12369</th>\n",
       "      <td>MMM</td>\n",
       "      <td>2019-01-14</td>\n",
       "      <td>182.639059</td>\n",
       "      <td>1.158142</td>\n",
       "      <td>3.029999</td>\n",
       "      <td>-0.020835</td>\n",
       "      <td>1914400.0</td>\n",
       "    </tr>\n",
       "  </tbody>\n",
       "</table>\n",
       "</div>"
      ],
      "text/plain": [
       "      Symbol        Date       Close    Profit     Range    Change     Volume\n",
       "12365    MMM  2019-01-08  180.100610  0.692993  4.529999  0.417354  2479800.0\n",
       "12366    MMM  2019-01-09  180.356924  1.281570  2.559998  0.322417  2163600.0\n",
       "12367    MMM  2019-01-10  182.225162  2.515656  4.410004  0.671480  1939300.0\n",
       "12368    MMM  2019-01-11  182.394144  1.196152  1.830002 -0.723149  2359900.0\n",
       "12369    MMM  2019-01-14  182.639059  1.158142  3.029999 -0.020835  1914400.0"
      ]
     },
     "execution_count": 30,
     "metadata": {},
     "output_type": "execute_result"
    }
   ],
   "source": [
    "df = pd.read_csv('stocks/total_clean.csv' , index_col = 'Unnamed: 0')\n",
    "df.columns = ['Symbol', 'Date', 'Close', 'Profit', 'Range', 'Change', 'Volume']\n",
    "df.head()"
   ]
  },
  {
   "cell_type": "markdown",
   "metadata": {},
   "source": [
    "### Check for Null values and remove them"
   ]
  },
  {
   "cell_type": "code",
   "execution_count": 31,
   "metadata": {},
   "outputs": [
    {
     "data": {
      "text/html": [
       "<div>\n",
       "<style scoped>\n",
       "    .dataframe tbody tr th:only-of-type {\n",
       "        vertical-align: middle;\n",
       "    }\n",
       "\n",
       "    .dataframe tbody tr th {\n",
       "        vertical-align: top;\n",
       "    }\n",
       "\n",
       "    .dataframe thead th {\n",
       "        text-align: right;\n",
       "    }\n",
       "</style>\n",
       "<table border=\"1\" class=\"dataframe\">\n",
       "  <thead>\n",
       "    <tr style=\"text-align: right;\">\n",
       "      <th></th>\n",
       "      <th>Symbol</th>\n",
       "      <th>Date</th>\n",
       "      <th>Close</th>\n",
       "      <th>Profit</th>\n",
       "      <th>Range</th>\n",
       "      <th>Change</th>\n",
       "      <th>Volume</th>\n",
       "    </tr>\n",
       "  </thead>\n",
       "  <tbody>\n",
       "  </tbody>\n",
       "</table>\n",
       "</div>"
      ],
      "text/plain": [
       "Empty DataFrame\n",
       "Columns: [Symbol, Date, Close, Profit, Range, Change, Volume]\n",
       "Index: []"
      ]
     },
     "execution_count": 31,
     "metadata": {},
     "output_type": "execute_result"
    }
   ],
   "source": [
    "df[df.isna().any(axis=1)]"
   ]
  },
  {
   "cell_type": "code",
   "execution_count": 32,
   "metadata": {},
   "outputs": [],
   "source": [
    "df.dropna(inplace = True)"
   ]
  },
  {
   "cell_type": "markdown",
   "metadata": {},
   "source": [
    "### Looking for symbols with the price range less than our period (2015-01-01 to 2020-04-01)\n",
    "**After finding the incompelete symbols, we will remove them**"
   ]
  },
  {
   "cell_type": "code",
   "execution_count": 33,
   "metadata": {},
   "outputs": [],
   "source": [
    "days_cnt = df[['Date', 'Symbol']].groupby(['Symbol']).count()\n",
    "days_cnt = days_cnt.reset_index()\n",
    "imperfect_symbols = days_cnt[days_cnt['Date'] < 310]['Symbol'].tolist()\n"
   ]
  },
  {
   "cell_type": "code",
   "execution_count": 34,
   "metadata": {},
   "outputs": [],
   "source": [
    "df = df[df['Symbol'].apply(lambda x:x not in imperfect_symbols)]"
   ]
  },
  {
   "cell_type": "markdown",
   "metadata": {},
   "source": [
    "### Number of Unique Symbols"
   ]
  },
  {
   "cell_type": "code",
   "execution_count": 35,
   "metadata": {},
   "outputs": [
    {
     "name": "stdout",
     "output_type": "stream",
     "text": [
      "493\n"
     ]
    }
   ],
   "source": [
    "symbols  = df['Symbol'].unique()\n",
    "print(len(symbols))"
   ]
  },
  {
   "cell_type": "markdown",
   "metadata": {},
   "source": [
    "### Check stocks price range over the period"
   ]
  },
  {
   "cell_type": "code",
   "execution_count": 36,
   "metadata": {},
   "outputs": [
    {
     "data": {
      "text/html": [
       "<div>\n",
       "<style scoped>\n",
       "    .dataframe tbody tr th:only-of-type {\n",
       "        vertical-align: middle;\n",
       "    }\n",
       "\n",
       "    .dataframe tbody tr th {\n",
       "        vertical-align: top;\n",
       "    }\n",
       "\n",
       "    .dataframe thead th {\n",
       "        text-align: right;\n",
       "    }\n",
       "</style>\n",
       "<table border=\"1\" class=\"dataframe\">\n",
       "  <thead>\n",
       "    <tr style=\"text-align: right;\">\n",
       "      <th></th>\n",
       "      <th>Close</th>\n",
       "      <th>Profit</th>\n",
       "      <th>Range</th>\n",
       "      <th>Change</th>\n",
       "      <th>Volume</th>\n",
       "    </tr>\n",
       "  </thead>\n",
       "  <tbody>\n",
       "    <tr>\n",
       "      <th>count</th>\n",
       "      <td>152830.000000</td>\n",
       "      <td>152830.000000</td>\n",
       "      <td>152830.000000</td>\n",
       "      <td>152830.000000</td>\n",
       "      <td>1.528300e+05</td>\n",
       "    </tr>\n",
       "    <tr>\n",
       "      <th>mean</th>\n",
       "      <td>128.891772</td>\n",
       "      <td>22.661131</td>\n",
       "      <td>3.007083</td>\n",
       "      <td>-0.074171</td>\n",
       "      <td>4.265192e+06</td>\n",
       "    </tr>\n",
       "    <tr>\n",
       "      <th>std</th>\n",
       "      <td>222.027285</td>\n",
       "      <td>60.528956</td>\n",
       "      <td>7.236799</td>\n",
       "      <td>2.809257</td>\n",
       "      <td>8.414314e+06</td>\n",
       "    </tr>\n",
       "    <tr>\n",
       "      <th>min</th>\n",
       "      <td>3.502000</td>\n",
       "      <td>-569.459961</td>\n",
       "      <td>0.000000</td>\n",
       "      <td>-116.753931</td>\n",
       "      <td>0.000000e+00</td>\n",
       "    </tr>\n",
       "    <tr>\n",
       "      <th>25%</th>\n",
       "      <td>47.600880</td>\n",
       "      <td>3.082842</td>\n",
       "      <td>0.849998</td>\n",
       "      <td>-0.814667</td>\n",
       "      <td>1.012625e+06</td>\n",
       "    </tr>\n",
       "    <tr>\n",
       "      <th>50%</th>\n",
       "      <td>83.801050</td>\n",
       "      <td>11.273210</td>\n",
       "      <td>1.530006</td>\n",
       "      <td>0.111364</td>\n",
       "      <td>1.959250e+06</td>\n",
       "    </tr>\n",
       "    <tr>\n",
       "      <th>75%</th>\n",
       "      <td>141.584280</td>\n",
       "      <td>26.519989</td>\n",
       "      <td>2.970001</td>\n",
       "      <td>0.950853</td>\n",
       "      <td>4.279500e+06</td>\n",
       "    </tr>\n",
       "    <tr>\n",
       "      <th>max</th>\n",
       "      <td>3997.697949</td>\n",
       "      <td>1616.949951</td>\n",
       "      <td>657.209961</td>\n",
       "      <td>40.468977</td>\n",
       "      <td>4.010487e+08</td>\n",
       "    </tr>\n",
       "  </tbody>\n",
       "</table>\n",
       "</div>"
      ],
      "text/plain": [
       "               Close         Profit          Range         Change  \\\n",
       "count  152830.000000  152830.000000  152830.000000  152830.000000   \n",
       "mean      128.891772      22.661131       3.007083      -0.074171   \n",
       "std       222.027285      60.528956       7.236799       2.809257   \n",
       "min         3.502000    -569.459961       0.000000    -116.753931   \n",
       "25%        47.600880       3.082842       0.849998      -0.814667   \n",
       "50%        83.801050      11.273210       1.530006       0.111364   \n",
       "75%       141.584280      26.519989       2.970001       0.950853   \n",
       "max      3997.697949    1616.949951     657.209961      40.468977   \n",
       "\n",
       "             Volume  \n",
       "count  1.528300e+05  \n",
       "mean   4.265192e+06  \n",
       "std    8.414314e+06  \n",
       "min    0.000000e+00  \n",
       "25%    1.012625e+06  \n",
       "50%    1.959250e+06  \n",
       "75%    4.279500e+06  \n",
       "max    4.010487e+08  "
      ]
     },
     "execution_count": 36,
     "metadata": {},
     "output_type": "execute_result"
    }
   ],
   "source": [
    "df.describe()"
   ]
  },
  {
   "cell_type": "code",
   "execution_count": 37,
   "metadata": {},
   "outputs": [
    {
     "data": {
      "image/png": "[encoded data removed]",
      "text/plain": [
       "<Figure size 1008x288 with 1 Axes>"
      ]
     },
     "metadata": {},
     "output_type": "display_data"
    }
   ],
   "source": [
    "sns.set(rc={'figure.figsize':(14, 4)})\n",
    "df[df['Symbol'] == 'AAPL']['Close'].plot()\n",
    "plt.show()"
   ]
  },
  {
   "cell_type": "code",
   "execution_count": null,
   "metadata": {},
   "outputs": [],
   "source": []
  }
 ],
 "metadata": {
  "kernelspec": {
   "display_name": "Python 3",
   "language": "python",
   "name": "python3"
  },
  "language_info": {
   "codemirror_mode": {
    "name": "ipython",
    "version": 3
   },
   "file_extension": ".py",
   "mimetype": "text/x-python",
   "name": "python",
   "nbconvert_exporter": "python",
   "pygments_lexer": "ipython3",
   "version": "3.7.7"
  }
 },
 "nbformat": 4,
 "nbformat_minor": 4
}
