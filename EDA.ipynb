{
 "cells": [
  {
   "cell_type": "code",
   "execution_count": 78,
   "metadata": {},
   "outputs": [],
   "source": [
    "import pandas as pd\n",
    "import matplotlib.pyplot as plt\n",
    "import seaborn as sns"
   ]
  },
  {
   "cell_type": "code",
   "execution_count": 3,
   "metadata": {},
   "outputs": [
    {
     "data": {
      "text/html": [
       "<div>\n",
       "<style scoped>\n",
       "    .dataframe tbody tr th:only-of-type {\n",
       "        vertical-align: middle;\n",
       "    }\n",
       "\n",
       "    .dataframe tbody tr th {\n",
       "        vertical-align: top;\n",
       "    }\n",
       "\n",
       "    .dataframe thead th {\n",
       "        text-align: right;\n",
       "    }\n",
       "</style>\n",
       "<table border=\"1\" class=\"dataframe\">\n",
       "  <thead>\n",
       "    <tr style=\"text-align: right;\">\n",
       "      <th></th>\n",
       "      <th>Symbol</th>\n",
       "      <th>Date</th>\n",
       "      <th>Open</th>\n",
       "      <th>High</th>\n",
       "      <th>Low</th>\n",
       "      <th>Close</th>\n",
       "      <th>Adj Close</th>\n",
       "      <th>Volume</th>\n",
       "    </tr>\n",
       "  </thead>\n",
       "  <tbody>\n",
       "    <tr>\n",
       "      <th>0</th>\n",
       "      <td>MMM</td>\n",
       "      <td>2015-01-02</td>\n",
       "      <td>164.710007</td>\n",
       "      <td>165.080002</td>\n",
       "      <td>162.729996</td>\n",
       "      <td>164.059998</td>\n",
       "      <td>140.665863</td>\n",
       "      <td>2116400.0</td>\n",
       "    </tr>\n",
       "    <tr>\n",
       "      <th>1</th>\n",
       "      <td>MMM</td>\n",
       "      <td>2015-01-05</td>\n",
       "      <td>163.000000</td>\n",
       "      <td>163.639999</td>\n",
       "      <td>160.080002</td>\n",
       "      <td>160.360001</td>\n",
       "      <td>137.493500</td>\n",
       "      <td>3692900.0</td>\n",
       "    </tr>\n",
       "    <tr>\n",
       "      <th>2</th>\n",
       "      <td>MMM</td>\n",
       "      <td>2015-01-06</td>\n",
       "      <td>160.820007</td>\n",
       "      <td>161.369995</td>\n",
       "      <td>157.740005</td>\n",
       "      <td>158.649994</td>\n",
       "      <td>136.027313</td>\n",
       "      <td>3532000.0</td>\n",
       "    </tr>\n",
       "    <tr>\n",
       "      <th>3</th>\n",
       "      <td>MMM</td>\n",
       "      <td>2015-01-07</td>\n",
       "      <td>159.899994</td>\n",
       "      <td>160.279999</td>\n",
       "      <td>158.940002</td>\n",
       "      <td>159.800003</td>\n",
       "      <td>137.013367</td>\n",
       "      <td>3081300.0</td>\n",
       "    </tr>\n",
       "    <tr>\n",
       "      <th>4</th>\n",
       "      <td>MMM</td>\n",
       "      <td>2015-01-08</td>\n",
       "      <td>160.649994</td>\n",
       "      <td>163.690002</td>\n",
       "      <td>160.520004</td>\n",
       "      <td>163.630005</td>\n",
       "      <td>140.297195</td>\n",
       "      <td>3142900.0</td>\n",
       "    </tr>\n",
       "  </tbody>\n",
       "</table>\n",
       "</div>"
      ],
      "text/plain": [
       "  Symbol        Date        Open        High         Low       Close  \\\n",
       "0    MMM  2015-01-02  164.710007  165.080002  162.729996  164.059998   \n",
       "1    MMM  2015-01-05  163.000000  163.639999  160.080002  160.360001   \n",
       "2    MMM  2015-01-06  160.820007  161.369995  157.740005  158.649994   \n",
       "3    MMM  2015-01-07  159.899994  160.279999  158.940002  159.800003   \n",
       "4    MMM  2015-01-08  160.649994  163.690002  160.520004  163.630005   \n",
       "\n",
       "    Adj Close     Volume  \n",
       "0  140.665863  2116400.0  \n",
       "1  137.493500  3692900.0  \n",
       "2  136.027313  3532000.0  \n",
       "3  137.013367  3081300.0  \n",
       "4  140.297195  3142900.0  "
      ]
     },
     "execution_count": 3,
     "metadata": {},
     "output_type": "execute_result"
    }
   ],
   "source": [
    "df = pd.read_csv('stocks/total_data.csv' , index_col = 'Unnamed: 0')\n",
    "df.head()"
   ]
  },
  {
   "cell_type": "markdown",
   "metadata": {},
   "source": [
    "### Number of Unique Symbols"
   ]
  },
  {
   "cell_type": "code",
   "execution_count": 5,
   "metadata": {},
   "outputs": [
    {
     "name": "stdout",
     "output_type": "stream",
     "text": [
      "503\n"
     ]
    }
   ],
   "source": [
    "symbols  = df['Symbol'].unique()\n",
    "print(len(symbols))"
   ]
  },
  {
   "cell_type": "code",
   "execution_count": 59,
   "metadata": {},
   "outputs": [
    {
     "data": {
      "text/html": [
       "<div>\n",
       "<style scoped>\n",
       "    .dataframe tbody tr th:only-of-type {\n",
       "        vertical-align: middle;\n",
       "    }\n",
       "\n",
       "    .dataframe tbody tr th {\n",
       "        vertical-align: top;\n",
       "    }\n",
       "\n",
       "    .dataframe thead th {\n",
       "        text-align: right;\n",
       "    }\n",
       "</style>\n",
       "<table border=\"1\" class=\"dataframe\">\n",
       "  <thead>\n",
       "    <tr style=\"text-align: right;\">\n",
       "      <th></th>\n",
       "      <th>Symbol</th>\n",
       "      <th>Date</th>\n",
       "      <th>Open</th>\n",
       "      <th>High</th>\n",
       "      <th>Low</th>\n",
       "      <th>Close</th>\n",
       "      <th>Adj Close</th>\n",
       "      <th>Volume</th>\n",
       "    </tr>\n",
       "  </thead>\n",
       "  <tbody>\n",
       "    <tr>\n",
       "      <th>265147</th>\n",
       "      <td>GPS</td>\n",
       "      <td>2017-01-02</td>\n",
       "      <td>NaN</td>\n",
       "      <td>NaN</td>\n",
       "      <td>NaN</td>\n",
       "      <td>NaN</td>\n",
       "      <td>NaN</td>\n",
       "      <td>NaN</td>\n",
       "    </tr>\n",
       "  </tbody>\n",
       "</table>\n",
       "</div>"
      ],
      "text/plain": [
       "       Symbol        Date  Open  High  Low  Close  Adj Close  Volume\n",
       "265147    GPS  2017-01-02   NaN   NaN  NaN    NaN        NaN     NaN"
      ]
     },
     "execution_count": 59,
     "metadata": {},
     "output_type": "execute_result"
    }
   ],
   "source": [
    "df[df['Date'] == '2017-01-02']"
   ]
  },
  {
   "cell_type": "markdown",
   "metadata": {},
   "source": [
    "### Check for Null values and remove them"
   ]
  },
  {
   "cell_type": "code",
   "execution_count": 61,
   "metadata": {},
   "outputs": [
    {
     "data": {
      "text/html": [
       "<div>\n",
       "<style scoped>\n",
       "    .dataframe tbody tr th:only-of-type {\n",
       "        vertical-align: middle;\n",
       "    }\n",
       "\n",
       "    .dataframe tbody tr th {\n",
       "        vertical-align: top;\n",
       "    }\n",
       "\n",
       "    .dataframe thead th {\n",
       "        text-align: right;\n",
       "    }\n",
       "</style>\n",
       "<table border=\"1\" class=\"dataframe\">\n",
       "  <thead>\n",
       "    <tr style=\"text-align: right;\">\n",
       "      <th></th>\n",
       "      <th>Symbol</th>\n",
       "      <th>Date</th>\n",
       "      <th>Open</th>\n",
       "      <th>High</th>\n",
       "      <th>Low</th>\n",
       "      <th>Close</th>\n",
       "      <th>Adj Close</th>\n",
       "      <th>Volume</th>\n",
       "    </tr>\n",
       "  </thead>\n",
       "  <tbody>\n",
       "    <tr>\n",
       "      <th>63897</th>\n",
       "      <td>AMAT</td>\n",
       "      <td>2017-02-20</td>\n",
       "      <td>NaN</td>\n",
       "      <td>NaN</td>\n",
       "      <td>NaN</td>\n",
       "      <td>NaN</td>\n",
       "      <td>NaN</td>\n",
       "      <td>NaN</td>\n",
       "    </tr>\n",
       "    <tr>\n",
       "      <th>110316</th>\n",
       "      <td>CAH</td>\n",
       "      <td>2018-01-01</td>\n",
       "      <td>NaN</td>\n",
       "      <td>NaN</td>\n",
       "      <td>NaN</td>\n",
       "      <td>NaN</td>\n",
       "      <td>NaN</td>\n",
       "      <td>NaN</td>\n",
       "    </tr>\n",
       "    <tr>\n",
       "      <th>113793</th>\n",
       "      <td>CAT</td>\n",
       "      <td>2016-01-18</td>\n",
       "      <td>NaN</td>\n",
       "      <td>NaN</td>\n",
       "      <td>NaN</td>\n",
       "      <td>NaN</td>\n",
       "      <td>NaN</td>\n",
       "      <td>NaN</td>\n",
       "    </tr>\n",
       "    <tr>\n",
       "      <th>265147</th>\n",
       "      <td>GPS</td>\n",
       "      <td>2017-01-02</td>\n",
       "      <td>NaN</td>\n",
       "      <td>NaN</td>\n",
       "      <td>NaN</td>\n",
       "      <td>NaN</td>\n",
       "      <td>NaN</td>\n",
       "      <td>NaN</td>\n",
       "    </tr>\n",
       "    <tr>\n",
       "      <th>284113</th>\n",
       "      <td>HAL</td>\n",
       "      <td>2018-12-05</td>\n",
       "      <td>NaN</td>\n",
       "      <td>NaN</td>\n",
       "      <td>NaN</td>\n",
       "      <td>NaN</td>\n",
       "      <td>NaN</td>\n",
       "      <td>NaN</td>\n",
       "    </tr>\n",
       "    <tr>\n",
       "      <th>423999</th>\n",
       "      <td>MOS</td>\n",
       "      <td>2018-12-05</td>\n",
       "      <td>NaN</td>\n",
       "      <td>NaN</td>\n",
       "      <td>NaN</td>\n",
       "      <td>NaN</td>\n",
       "      <td>NaN</td>\n",
       "      <td>NaN</td>\n",
       "    </tr>\n",
       "    <tr>\n",
       "      <th>435880</th>\n",
       "      <td>NEM</td>\n",
       "      <td>2018-12-05</td>\n",
       "      <td>NaN</td>\n",
       "      <td>NaN</td>\n",
       "      <td>NaN</td>\n",
       "      <td>NaN</td>\n",
       "      <td>NaN</td>\n",
       "      <td>NaN</td>\n",
       "    </tr>\n",
       "    <tr>\n",
       "      <th>461230</th>\n",
       "      <td>ODFL</td>\n",
       "      <td>2018-12-05</td>\n",
       "      <td>NaN</td>\n",
       "      <td>NaN</td>\n",
       "      <td>NaN</td>\n",
       "      <td>NaN</td>\n",
       "      <td>NaN</td>\n",
       "      <td>NaN</td>\n",
       "    </tr>\n",
       "  </tbody>\n",
       "</table>\n",
       "</div>"
      ],
      "text/plain": [
       "       Symbol        Date  Open  High  Low  Close  Adj Close  Volume\n",
       "63897    AMAT  2017-02-20   NaN   NaN  NaN    NaN        NaN     NaN\n",
       "110316    CAH  2018-01-01   NaN   NaN  NaN    NaN        NaN     NaN\n",
       "113793    CAT  2016-01-18   NaN   NaN  NaN    NaN        NaN     NaN\n",
       "265147    GPS  2017-01-02   NaN   NaN  NaN    NaN        NaN     NaN\n",
       "284113    HAL  2018-12-05   NaN   NaN  NaN    NaN        NaN     NaN\n",
       "423999    MOS  2018-12-05   NaN   NaN  NaN    NaN        NaN     NaN\n",
       "435880    NEM  2018-12-05   NaN   NaN  NaN    NaN        NaN     NaN\n",
       "461230   ODFL  2018-12-05   NaN   NaN  NaN    NaN        NaN     NaN"
      ]
     },
     "execution_count": 61,
     "metadata": {},
     "output_type": "execute_result"
    }
   ],
   "source": [
    "df[df.isna().any(axis=1)]"
   ]
  },
  {
   "cell_type": "code",
   "execution_count": 62,
   "metadata": {},
   "outputs": [],
   "source": [
    "df.dropna(inplace = True)"
   ]
  },
  {
   "cell_type": "markdown",
   "metadata": {},
   "source": [
    "### Looking for symbols with the price range less than our period (2015-01-01 to 2020-04-01)\n",
    "**After finding the incompelete symbols, we will remove them**"
   ]
  },
  {
   "cell_type": "code",
   "execution_count": 74,
   "metadata": {},
   "outputs": [
    {
     "data": {
      "text/plain": [
       "[]"
      ]
     },
     "execution_count": 74,
     "metadata": {},
     "output_type": "execute_result"
    }
   ],
   "source": [
    "days_cnt = df[['Date', 'Symbol']].groupby(['Symbol']).count()\n",
    "days_cnt = days_cnt.reset_index()\n",
    "imperfect_symbols = days_cnt[days_cnt['Date'] < 1320]['Symbol'].tolist()\n"
   ]
  },
  {
   "cell_type": "code",
   "execution_count": 73,
   "metadata": {},
   "outputs": [],
   "source": [
    "df = df[df['Symbol'].apply(lambda x:x not in imperfect_symbols)]"
   ]
  },
  {
   "cell_type": "markdown",
   "metadata": {},
   "source": [
    "### Check stocks price range over the period"
   ]
  },
  {
   "cell_type": "code",
   "execution_count": 75,
   "metadata": {},
   "outputs": [
    {
     "data": {
      "text/html": [
       "<div>\n",
       "<style scoped>\n",
       "    .dataframe tbody tr th:only-of-type {\n",
       "        vertical-align: middle;\n",
       "    }\n",
       "\n",
       "    .dataframe tbody tr th {\n",
       "        vertical-align: top;\n",
       "    }\n",
       "\n",
       "    .dataframe thead th {\n",
       "        text-align: right;\n",
       "    }\n",
       "</style>\n",
       "<table border=\"1\" class=\"dataframe\">\n",
       "  <thead>\n",
       "    <tr style=\"text-align: right;\">\n",
       "      <th></th>\n",
       "      <th>Open</th>\n",
       "      <th>High</th>\n",
       "      <th>Low</th>\n",
       "      <th>Close</th>\n",
       "      <th>Adj Close</th>\n",
       "      <th>Volume</th>\n",
       "    </tr>\n",
       "  </thead>\n",
       "  <tbody>\n",
       "    <tr>\n",
       "      <th>count</th>\n",
       "      <td>640200.000000</td>\n",
       "      <td>640200.000000</td>\n",
       "      <td>640200.000000</td>\n",
       "      <td>640200.000000</td>\n",
       "      <td>640200.000000</td>\n",
       "      <td>6.402000e+05</td>\n",
       "    </tr>\n",
       "    <tr>\n",
       "      <th>mean</th>\n",
       "      <td>107.313599</td>\n",
       "      <td>108.416300</td>\n",
       "      <td>106.181197</td>\n",
       "      <td>107.334983</td>\n",
       "      <td>103.224936</td>\n",
       "      <td>4.246894e+06</td>\n",
       "    </tr>\n",
       "    <tr>\n",
       "      <th>std</th>\n",
       "      <td>174.097322</td>\n",
       "      <td>176.053372</td>\n",
       "      <td>172.152155</td>\n",
       "      <td>174.159342</td>\n",
       "      <td>174.116179</td>\n",
       "      <td>8.536613e+06</td>\n",
       "    </tr>\n",
       "    <tr>\n",
       "      <th>min</th>\n",
       "      <td>1.620000</td>\n",
       "      <td>1.690000</td>\n",
       "      <td>1.610000</td>\n",
       "      <td>1.620000</td>\n",
       "      <td>1.620000</td>\n",
       "      <td>0.000000e+00</td>\n",
       "    </tr>\n",
       "    <tr>\n",
       "      <th>25%</th>\n",
       "      <td>44.799999</td>\n",
       "      <td>45.270000</td>\n",
       "      <td>44.310001</td>\n",
       "      <td>44.814970</td>\n",
       "      <td>41.466189</td>\n",
       "      <td>1.008800e+06</td>\n",
       "    </tr>\n",
       "    <tr>\n",
       "      <th>50%</th>\n",
       "      <td>72.330002</td>\n",
       "      <td>73.040001</td>\n",
       "      <td>71.610001</td>\n",
       "      <td>72.349998</td>\n",
       "      <td>67.505615</td>\n",
       "      <td>1.995600e+06</td>\n",
       "    </tr>\n",
       "    <tr>\n",
       "      <th>75%</th>\n",
       "      <td>116.599998</td>\n",
       "      <td>117.680000</td>\n",
       "      <td>115.470001</td>\n",
       "      <td>116.629997</td>\n",
       "      <td>111.615496</td>\n",
       "      <td>4.247900e+06</td>\n",
       "    </tr>\n",
       "    <tr>\n",
       "      <th>max</th>\n",
       "      <td>4025.000000</td>\n",
       "      <td>4071.129883</td>\n",
       "      <td>3986.949951</td>\n",
       "      <td>4037.770020</td>\n",
       "      <td>4037.770020</td>\n",
       "      <td>4.485859e+08</td>\n",
       "    </tr>\n",
       "  </tbody>\n",
       "</table>\n",
       "</div>"
      ],
      "text/plain": [
       "                Open           High            Low          Close  \\\n",
       "count  640200.000000  640200.000000  640200.000000  640200.000000   \n",
       "mean      107.313599     108.416300     106.181197     107.334983   \n",
       "std       174.097322     176.053372     172.152155     174.159342   \n",
       "min         1.620000       1.690000       1.610000       1.620000   \n",
       "25%        44.799999      45.270000      44.310001      44.814970   \n",
       "50%        72.330002      73.040001      71.610001      72.349998   \n",
       "75%       116.599998     117.680000     115.470001     116.629997   \n",
       "max      4025.000000    4071.129883    3986.949951    4037.770020   \n",
       "\n",
       "           Adj Close        Volume  \n",
       "count  640200.000000  6.402000e+05  \n",
       "mean      103.224936  4.246894e+06  \n",
       "std       174.116179  8.536613e+06  \n",
       "min         1.620000  0.000000e+00  \n",
       "25%        41.466189  1.008800e+06  \n",
       "50%        67.505615  1.995600e+06  \n",
       "75%       111.615496  4.247900e+06  \n",
       "max      4037.770020  4.485859e+08  "
      ]
     },
     "execution_count": 75,
     "metadata": {},
     "output_type": "execute_result"
    }
   ],
   "source": [
    "df.describe()"
   ]
  },
  {
   "cell_type": "code",
   "execution_count": 81,
   "metadata": {},
   "outputs": [
    {
     "data": {
      "text/plain": [
       "<matplotlib.axes._subplots.AxesSubplot at 0x24f8d3f4f88>"
      ]
     },
     "execution_count": 81,
     "metadata": {},
     "output_type": "execute_result"
    },
    {
     "data": {
      "image/png": "[encoded data removed]",
      "text/plain": [
       "<Figure size 1008x288 with 1 Axes>"
      ]
     },
     "metadata": {},
     "output_type": "display_data"
    }
   ],
   "source": [
    "sns.set(rc={'figure.figsize':(14, 4)})\n",
    "df[df['Symbol'] == 'AAPL']['Close'].plot()"
   ]
  }
 ],
 "metadata": {
  "kernelspec": {
   "display_name": "Python 3",
   "language": "python",
   "name": "python3"
  },
  "language_info": {
   "codemirror_mode": {
    "name": "ipython",
    "version": 3
   },
   "file_extension": ".py",
   "mimetype": "text/x-python",
   "name": "python",
   "nbconvert_exporter": "python",
   "pygments_lexer": "ipython3",
   "version": "3.7.7"
  }
 },
 "nbformat": 4,
 "nbformat_minor": 4
}
